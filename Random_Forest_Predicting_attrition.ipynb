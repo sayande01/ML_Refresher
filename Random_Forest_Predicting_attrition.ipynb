{
  "cells": [
    {
      "cell_type": "markdown",
      "id": "150ff3dc",
      "metadata": {
        "papermill": {
          "duration": 0.014441,
          "end_time": "2023-02-01T13:10:53.448471",
          "exception": false,
          "start_time": "2023-02-01T13:10:53.434030",
          "status": "completed"
        },
        "tags": [],
        "id": "150ff3dc"
      },
      "source": [
        "# Random Forest Analysis for Predicting Atrrition\n",
        "\n",
        "## Project Overview\n",
        "This notebook presents a comprehensive analysis of a companies attriction prediction through the use of Random Forest algorithm to uncover hidden factors that influences employee to stay or leave the organization\n",
        "\n",
        "\n",
        "## Contents\n",
        "1. Introduction to Random Forest\n",
        "2. Data Loading and Exploration\n",
        "3. Data Preprocessing\n",
        "4. Exploratory Data Analysis\n",
        "5. Random Forest Implementation\n",
        "6. Model Evaluation\n",
        "7. Feature Importance Analysis\n",
        "8. Business Insights and Recommendations\n",
        "9. Conclusion\n",
        "\n",
        "## 1. Introduction to Random Forest\n",
        "\n",
        "### What is Random Forest?\n",
        "Random Forest is an ensemble learning method that operates by constructing multiple decision trees during training and outputting the mean prediction (for regression problems) or the mode prediction (for classification problems) of the individual trees.\n",
        "\n",
        "### Mathematical Intuition\n",
        "\n",
        "#### Decision Trees Basics\n",
        "A decision tree makes decisions by splitting the data based on feature values. For a regression tree with a dataset $(X, Y)$ where $X$ represents features and $Y$ represents the target value:\n",
        "\n",
        "1. The algorithm seeks to find the split that minimizes the sum of squared errors (SSE):\n",
        "   $$SSE = \\sum_{i \\in left}(y_i - \\bar{y}_{left})^2 + \\sum_{i \\in right}(y_i - \\bar{y}_{right})^2$$\n",
        "   \n",
        "   where $\\bar{y}_{left}$ and $\\bar{y}_{right}$ are the mean values in the left and right nodes after the split.\n",
        "\n",
        "#### Random Forest Algorithm\n",
        "Random Forest extends decision trees through:\n",
        "\n",
        "1. **Bagging (Bootstrap Aggregating)**: Training each tree on a random sample with replacement from the original dataset.\n",
        "   - If our original dataset has $n$ observations, each bootstrap sample also has $n$ observations, but some observations may be repeated and some may be left out.\n",
        "   \n",
        "2. **Feature Randomization**: At each split in each tree, only considering a random subset of features.\n",
        "   - If there are $m$ features, typically we consider $\\sqrt{m}$ features at each split.\n",
        "\n",
        "3. **Ensemble Prediction**: For regression, the final prediction is the average of predictions from all trees:\n",
        "   $$\\hat{y} = \\frac{1}{B} \\sum_{b=1}^{B} \\hat{y}_b$$\n",
        "   where $B$ is the number of trees and $\\hat{y}_b$ is the prediction from the $b$-th tree.\n",
        "\n",
        "### Key Advantages of Random Forest\n",
        "1. **Reduced Overfitting**: By averaging multiple trees, the model reduces variance while maintaining low bias\n",
        "2. **Feature Importance**: Provides a measure of the importance of each feature\n",
        "3. **Out-of-Bag (OOB) Error Estimation**: Built-in validation using samples not included in individual tree training\n",
        "4. **Handles Non-linear Relationships**: Effectively captures complex patterns in data\n",
        "5. **Robust to Outliers**: Less sensitive to extreme values than linear models\n",
        "\n",
        "### Out-of-Bag (OOB) Error Estimation\n",
        "When building each tree, approximately 1/3 of the data is not used (out-of-bag). These samples can be used to estimate model performance:\n",
        "\n",
        "1. For each observation $(x_i, y_i)$, find all trees where this observation was OOB\n",
        "2. Average the predictions from these trees for $x_i$\n",
        "3. Calculate the error between this prediction and $y_i$\n",
        "4. Average these errors across all observations\n",
        "\n",
        "This provides an unbiased estimate of the model's performance without requiring a separate validation set.\n",
        "\n",
        "### Majority Voting\n",
        "In Random Forest classification:\n",
        "- Each tree \"votes\" for a class\n",
        "- The final prediction is the class with the most votes (majority voting)\n",
        "\n",
        "For regression, the equivalent is taking the average of all tree predictions.\n",
        "\n",
        "## 2. Data Loading and Exploration\n"
      ]
    },
    {
      "cell_type": "markdown",
      "id": "e2875c48",
      "metadata": {
        "papermill": {
          "duration": 0.01315,
          "end_time": "2023-02-01T13:10:53.475117",
          "exception": false,
          "start_time": "2023-02-01T13:10:53.461967",
          "status": "completed"
        },
        "tags": [],
        "id": "e2875c48"
      },
      "source": [
        "# 3. Random Forest Implementation in python\n",
        "\n",
        "We will use Decision Tree & Random Forest in Predicting the attrition of your valuable employees."
      ]
    },
    {
      "cell_type": "code",
      "execution_count": 12,
      "id": "882f9e29",
      "metadata": {
        "execution": {
          "iopub.execute_input": "2023-02-01T13:10:53.503757Z",
          "iopub.status.busy": "2023-02-01T13:10:53.503085Z",
          "iopub.status.idle": "2023-02-01T13:10:54.546166Z",
          "shell.execute_reply": "2023-02-01T13:10:54.544611Z"
        },
        "papermill": {
          "duration": 1.060553,
          "end_time": "2023-02-01T13:10:54.548799",
          "exception": false,
          "start_time": "2023-02-01T13:10:53.488246",
          "status": "completed"
        },
        "tags": [],
        "id": "882f9e29"
      },
      "outputs": [],
      "source": [
        "import pandas as pd\n",
        "import numpy as np\n",
        "import matplotlib.pyplot as plt\n",
        "import seaborn as sns\n",
        "\n",
        "%matplotlib inline\n",
        "sns.set_style(\"whitegrid\")\n",
        "plt.style.use(\"fivethirtyeight\")"
      ]
    },
    {
      "cell_type": "code",
      "execution_count": 13,
      "id": "1cd477c7",
      "metadata": {
        "execution": {
          "iopub.execute_input": "2023-02-01T13:10:54.577006Z",
          "iopub.status.busy": "2023-02-01T13:10:54.576641Z",
          "iopub.status.idle": "2023-02-01T13:10:54.635817Z",
          "shell.execute_reply": "2023-02-01T13:10:54.634328Z"
        },
        "papermill": {
          "duration": 0.076583,
          "end_time": "2023-02-01T13:10:54.638740",
          "exception": false,
          "start_time": "2023-02-01T13:10:54.562157",
          "status": "completed"
        },
        "tags": [],
        "colab": {
          "base_uri": "https://localhost:8080/",
          "height": 325
        },
        "id": "1cd477c7",
        "outputId": "8b3d5eb1-9d25-4115-9ed7-f5d725eadb74"
      },
      "outputs": [
        {
          "output_type": "execute_result",
          "data": {
            "text/plain": [
              "   Age Attrition     BusinessTravel  DailyRate              Department  \\\n",
              "0   41       Yes      Travel_Rarely       1102                   Sales   \n",
              "1   49        No  Travel_Frequently        279  Research & Development   \n",
              "2   37       Yes      Travel_Rarely       1373  Research & Development   \n",
              "3   33        No  Travel_Frequently       1392  Research & Development   \n",
              "4   27        No      Travel_Rarely        591  Research & Development   \n",
              "\n",
              "   DistanceFromHome  Education EducationField  EmployeeCount  EmployeeNumber  \\\n",
              "0                 1          2  Life Sciences              1               1   \n",
              "1                 8          1  Life Sciences              1               2   \n",
              "2                 2          2          Other              1               4   \n",
              "3                 3          4  Life Sciences              1               5   \n",
              "4                 2          1        Medical              1               7   \n",
              "\n",
              "   ...  RelationshipSatisfaction StandardHours  StockOptionLevel  \\\n",
              "0  ...                         1            80                 0   \n",
              "1  ...                         4            80                 1   \n",
              "2  ...                         2            80                 0   \n",
              "3  ...                         3            80                 0   \n",
              "4  ...                         4            80                 1   \n",
              "\n",
              "   TotalWorkingYears  TrainingTimesLastYear WorkLifeBalance  YearsAtCompany  \\\n",
              "0                  8                      0               1               6   \n",
              "1                 10                      3               3              10   \n",
              "2                  7                      3               3               0   \n",
              "3                  8                      3               3               8   \n",
              "4                  6                      3               3               2   \n",
              "\n",
              "  YearsInCurrentRole  YearsSinceLastPromotion  YearsWithCurrManager  \n",
              "0                  4                        0                     5  \n",
              "1                  7                        1                     7  \n",
              "2                  0                        0                     0  \n",
              "3                  7                        3                     0  \n",
              "4                  2                        2                     2  \n",
              "\n",
              "[5 rows x 35 columns]"
            ],
            "text/html": [
              "\n",
              "  <div id=\"df-275f362e-cdc4-45c7-a164-dc5b429a7725\" class=\"colab-df-container\">\n",
              "    <div>\n",
              "<style scoped>\n",
              "    .dataframe tbody tr th:only-of-type {\n",
              "        vertical-align: middle;\n",
              "    }\n",
              "\n",
              "    .dataframe tbody tr th {\n",
              "        vertical-align: top;\n",
              "    }\n",
              "\n",
              "    .dataframe thead th {\n",
              "        text-align: right;\n",
              "    }\n",
              "</style>\n",
              "<table border=\"1\" class=\"dataframe\">\n",
              "  <thead>\n",
              "    <tr style=\"text-align: right;\">\n",
              "      <th></th>\n",
              "      <th>Age</th>\n",
              "      <th>Attrition</th>\n",
              "      <th>BusinessTravel</th>\n",
              "      <th>DailyRate</th>\n",
              "      <th>Department</th>\n",
              "      <th>DistanceFromHome</th>\n",
              "      <th>Education</th>\n",
              "      <th>EducationField</th>\n",
              "      <th>EmployeeCount</th>\n",
              "      <th>EmployeeNumber</th>\n",
              "      <th>...</th>\n",
              "      <th>RelationshipSatisfaction</th>\n",
              "      <th>StandardHours</th>\n",
              "      <th>StockOptionLevel</th>\n",
              "      <th>TotalWorkingYears</th>\n",
              "      <th>TrainingTimesLastYear</th>\n",
              "      <th>WorkLifeBalance</th>\n",
              "      <th>YearsAtCompany</th>\n",
              "      <th>YearsInCurrentRole</th>\n",
              "      <th>YearsSinceLastPromotion</th>\n",
              "      <th>YearsWithCurrManager</th>\n",
              "    </tr>\n",
              "  </thead>\n",
              "  <tbody>\n",
              "    <tr>\n",
              "      <th>0</th>\n",
              "      <td>41</td>\n",
              "      <td>Yes</td>\n",
              "      <td>Travel_Rarely</td>\n",
              "      <td>1102</td>\n",
              "      <td>Sales</td>\n",
              "      <td>1</td>\n",
              "      <td>2</td>\n",
              "      <td>Life Sciences</td>\n",
              "      <td>1</td>\n",
              "      <td>1</td>\n",
              "      <td>...</td>\n",
              "      <td>1</td>\n",
              "      <td>80</td>\n",
              "      <td>0</td>\n",
              "      <td>8</td>\n",
              "      <td>0</td>\n",
              "      <td>1</td>\n",
              "      <td>6</td>\n",
              "      <td>4</td>\n",
              "      <td>0</td>\n",
              "      <td>5</td>\n",
              "    </tr>\n",
              "    <tr>\n",
              "      <th>1</th>\n",
              "      <td>49</td>\n",
              "      <td>No</td>\n",
              "      <td>Travel_Frequently</td>\n",
              "      <td>279</td>\n",
              "      <td>Research &amp; Development</td>\n",
              "      <td>8</td>\n",
              "      <td>1</td>\n",
              "      <td>Life Sciences</td>\n",
              "      <td>1</td>\n",
              "      <td>2</td>\n",
              "      <td>...</td>\n",
              "      <td>4</td>\n",
              "      <td>80</td>\n",
              "      <td>1</td>\n",
              "      <td>10</td>\n",
              "      <td>3</td>\n",
              "      <td>3</td>\n",
              "      <td>10</td>\n",
              "      <td>7</td>\n",
              "      <td>1</td>\n",
              "      <td>7</td>\n",
              "    </tr>\n",
              "    <tr>\n",
              "      <th>2</th>\n",
              "      <td>37</td>\n",
              "      <td>Yes</td>\n",
              "      <td>Travel_Rarely</td>\n",
              "      <td>1373</td>\n",
              "      <td>Research &amp; Development</td>\n",
              "      <td>2</td>\n",
              "      <td>2</td>\n",
              "      <td>Other</td>\n",
              "      <td>1</td>\n",
              "      <td>4</td>\n",
              "      <td>...</td>\n",
              "      <td>2</td>\n",
              "      <td>80</td>\n",
              "      <td>0</td>\n",
              "      <td>7</td>\n",
              "      <td>3</td>\n",
              "      <td>3</td>\n",
              "      <td>0</td>\n",
              "      <td>0</td>\n",
              "      <td>0</td>\n",
              "      <td>0</td>\n",
              "    </tr>\n",
              "    <tr>\n",
              "      <th>3</th>\n",
              "      <td>33</td>\n",
              "      <td>No</td>\n",
              "      <td>Travel_Frequently</td>\n",
              "      <td>1392</td>\n",
              "      <td>Research &amp; Development</td>\n",
              "      <td>3</td>\n",
              "      <td>4</td>\n",
              "      <td>Life Sciences</td>\n",
              "      <td>1</td>\n",
              "      <td>5</td>\n",
              "      <td>...</td>\n",
              "      <td>3</td>\n",
              "      <td>80</td>\n",
              "      <td>0</td>\n",
              "      <td>8</td>\n",
              "      <td>3</td>\n",
              "      <td>3</td>\n",
              "      <td>8</td>\n",
              "      <td>7</td>\n",
              "      <td>3</td>\n",
              "      <td>0</td>\n",
              "    </tr>\n",
              "    <tr>\n",
              "      <th>4</th>\n",
              "      <td>27</td>\n",
              "      <td>No</td>\n",
              "      <td>Travel_Rarely</td>\n",
              "      <td>591</td>\n",
              "      <td>Research &amp; Development</td>\n",
              "      <td>2</td>\n",
              "      <td>1</td>\n",
              "      <td>Medical</td>\n",
              "      <td>1</td>\n",
              "      <td>7</td>\n",
              "      <td>...</td>\n",
              "      <td>4</td>\n",
              "      <td>80</td>\n",
              "      <td>1</td>\n",
              "      <td>6</td>\n",
              "      <td>3</td>\n",
              "      <td>3</td>\n",
              "      <td>2</td>\n",
              "      <td>2</td>\n",
              "      <td>2</td>\n",
              "      <td>2</td>\n",
              "    </tr>\n",
              "  </tbody>\n",
              "</table>\n",
              "<p>5 rows × 35 columns</p>\n",
              "</div>\n",
              "    <div class=\"colab-df-buttons\">\n",
              "\n",
              "  <div class=\"colab-df-container\">\n",
              "    <button class=\"colab-df-convert\" onclick=\"convertToInteractive('df-275f362e-cdc4-45c7-a164-dc5b429a7725')\"\n",
              "            title=\"Convert this dataframe to an interactive table.\"\n",
              "            style=\"display:none;\">\n",
              "\n",
              "  <svg xmlns=\"http://www.w3.org/2000/svg\" height=\"24px\" viewBox=\"0 -960 960 960\">\n",
              "    <path d=\"M120-120v-720h720v720H120Zm60-500h600v-160H180v160Zm220 220h160v-160H400v160Zm0 220h160v-160H400v160ZM180-400h160v-160H180v160Zm440 0h160v-160H620v160ZM180-180h160v-160H180v160Zm440 0h160v-160H620v160Z\"/>\n",
              "  </svg>\n",
              "    </button>\n",
              "\n",
              "  <style>\n",
              "    .colab-df-container {\n",
              "      display:flex;\n",
              "      gap: 12px;\n",
              "    }\n",
              "\n",
              "    .colab-df-convert {\n",
              "      background-color: #E8F0FE;\n",
              "      border: none;\n",
              "      border-radius: 50%;\n",
              "      cursor: pointer;\n",
              "      display: none;\n",
              "      fill: #1967D2;\n",
              "      height: 32px;\n",
              "      padding: 0 0 0 0;\n",
              "      width: 32px;\n",
              "    }\n",
              "\n",
              "    .colab-df-convert:hover {\n",
              "      background-color: #E2EBFA;\n",
              "      box-shadow: 0px 1px 2px rgba(60, 64, 67, 0.3), 0px 1px 3px 1px rgba(60, 64, 67, 0.15);\n",
              "      fill: #174EA6;\n",
              "    }\n",
              "\n",
              "    .colab-df-buttons div {\n",
              "      margin-bottom: 4px;\n",
              "    }\n",
              "\n",
              "    [theme=dark] .colab-df-convert {\n",
              "      background-color: #3B4455;\n",
              "      fill: #D2E3FC;\n",
              "    }\n",
              "\n",
              "    [theme=dark] .colab-df-convert:hover {\n",
              "      background-color: #434B5C;\n",
              "      box-shadow: 0px 1px 3px 1px rgba(0, 0, 0, 0.15);\n",
              "      filter: drop-shadow(0px 1px 2px rgba(0, 0, 0, 0.3));\n",
              "      fill: #FFFFFF;\n",
              "    }\n",
              "  </style>\n",
              "\n",
              "    <script>\n",
              "      const buttonEl =\n",
              "        document.querySelector('#df-275f362e-cdc4-45c7-a164-dc5b429a7725 button.colab-df-convert');\n",
              "      buttonEl.style.display =\n",
              "        google.colab.kernel.accessAllowed ? 'block' : 'none';\n",
              "\n",
              "      async function convertToInteractive(key) {\n",
              "        const element = document.querySelector('#df-275f362e-cdc4-45c7-a164-dc5b429a7725');\n",
              "        const dataTable =\n",
              "          await google.colab.kernel.invokeFunction('convertToInteractive',\n",
              "                                                    [key], {});\n",
              "        if (!dataTable) return;\n",
              "\n",
              "        const docLinkHtml = 'Like what you see? Visit the ' +\n",
              "          '<a target=\"_blank\" href=https://colab.research.google.com/notebooks/data_table.ipynb>data table notebook</a>'\n",
              "          + ' to learn more about interactive tables.';\n",
              "        element.innerHTML = '';\n",
              "        dataTable['output_type'] = 'display_data';\n",
              "        await google.colab.output.renderOutput(dataTable, element);\n",
              "        const docLink = document.createElement('div');\n",
              "        docLink.innerHTML = docLinkHtml;\n",
              "        element.appendChild(docLink);\n",
              "      }\n",
              "    </script>\n",
              "  </div>\n",
              "\n",
              "\n",
              "<div id=\"df-66c1b29c-b0ee-4ec1-8ee3-9a0c50f7f36a\">\n",
              "  <button class=\"colab-df-quickchart\" onclick=\"quickchart('df-66c1b29c-b0ee-4ec1-8ee3-9a0c50f7f36a')\"\n",
              "            title=\"Suggest charts\"\n",
              "            style=\"display:none;\">\n",
              "\n",
              "<svg xmlns=\"http://www.w3.org/2000/svg\" height=\"24px\"viewBox=\"0 0 24 24\"\n",
              "     width=\"24px\">\n",
              "    <g>\n",
              "        <path d=\"M19 3H5c-1.1 0-2 .9-2 2v14c0 1.1.9 2 2 2h14c1.1 0 2-.9 2-2V5c0-1.1-.9-2-2-2zM9 17H7v-7h2v7zm4 0h-2V7h2v10zm4 0h-2v-4h2v4z\"/>\n",
              "    </g>\n",
              "</svg>\n",
              "  </button>\n",
              "\n",
              "<style>\n",
              "  .colab-df-quickchart {\n",
              "      --bg-color: #E8F0FE;\n",
              "      --fill-color: #1967D2;\n",
              "      --hover-bg-color: #E2EBFA;\n",
              "      --hover-fill-color: #174EA6;\n",
              "      --disabled-fill-color: #AAA;\n",
              "      --disabled-bg-color: #DDD;\n",
              "  }\n",
              "\n",
              "  [theme=dark] .colab-df-quickchart {\n",
              "      --bg-color: #3B4455;\n",
              "      --fill-color: #D2E3FC;\n",
              "      --hover-bg-color: #434B5C;\n",
              "      --hover-fill-color: #FFFFFF;\n",
              "      --disabled-bg-color: #3B4455;\n",
              "      --disabled-fill-color: #666;\n",
              "  }\n",
              "\n",
              "  .colab-df-quickchart {\n",
              "    background-color: var(--bg-color);\n",
              "    border: none;\n",
              "    border-radius: 50%;\n",
              "    cursor: pointer;\n",
              "    display: none;\n",
              "    fill: var(--fill-color);\n",
              "    height: 32px;\n",
              "    padding: 0;\n",
              "    width: 32px;\n",
              "  }\n",
              "\n",
              "  .colab-df-quickchart:hover {\n",
              "    background-color: var(--hover-bg-color);\n",
              "    box-shadow: 0 1px 2px rgba(60, 64, 67, 0.3), 0 1px 3px 1px rgba(60, 64, 67, 0.15);\n",
              "    fill: var(--button-hover-fill-color);\n",
              "  }\n",
              "\n",
              "  .colab-df-quickchart-complete:disabled,\n",
              "  .colab-df-quickchart-complete:disabled:hover {\n",
              "    background-color: var(--disabled-bg-color);\n",
              "    fill: var(--disabled-fill-color);\n",
              "    box-shadow: none;\n",
              "  }\n",
              "\n",
              "  .colab-df-spinner {\n",
              "    border: 2px solid var(--fill-color);\n",
              "    border-color: transparent;\n",
              "    border-bottom-color: var(--fill-color);\n",
              "    animation:\n",
              "      spin 1s steps(1) infinite;\n",
              "  }\n",
              "\n",
              "  @keyframes spin {\n",
              "    0% {\n",
              "      border-color: transparent;\n",
              "      border-bottom-color: var(--fill-color);\n",
              "      border-left-color: var(--fill-color);\n",
              "    }\n",
              "    20% {\n",
              "      border-color: transparent;\n",
              "      border-left-color: var(--fill-color);\n",
              "      border-top-color: var(--fill-color);\n",
              "    }\n",
              "    30% {\n",
              "      border-color: transparent;\n",
              "      border-left-color: var(--fill-color);\n",
              "      border-top-color: var(--fill-color);\n",
              "      border-right-color: var(--fill-color);\n",
              "    }\n",
              "    40% {\n",
              "      border-color: transparent;\n",
              "      border-right-color: var(--fill-color);\n",
              "      border-top-color: var(--fill-color);\n",
              "    }\n",
              "    60% {\n",
              "      border-color: transparent;\n",
              "      border-right-color: var(--fill-color);\n",
              "    }\n",
              "    80% {\n",
              "      border-color: transparent;\n",
              "      border-right-color: var(--fill-color);\n",
              "      border-bottom-color: var(--fill-color);\n",
              "    }\n",
              "    90% {\n",
              "      border-color: transparent;\n",
              "      border-bottom-color: var(--fill-color);\n",
              "    }\n",
              "  }\n",
              "</style>\n",
              "\n",
              "  <script>\n",
              "    async function quickchart(key) {\n",
              "      const quickchartButtonEl =\n",
              "        document.querySelector('#' + key + ' button');\n",
              "      quickchartButtonEl.disabled = true;  // To prevent multiple clicks.\n",
              "      quickchartButtonEl.classList.add('colab-df-spinner');\n",
              "      try {\n",
              "        const charts = await google.colab.kernel.invokeFunction(\n",
              "            'suggestCharts', [key], {});\n",
              "      } catch (error) {\n",
              "        console.error('Error during call to suggestCharts:', error);\n",
              "      }\n",
              "      quickchartButtonEl.classList.remove('colab-df-spinner');\n",
              "      quickchartButtonEl.classList.add('colab-df-quickchart-complete');\n",
              "    }\n",
              "    (() => {\n",
              "      let quickchartButtonEl =\n",
              "        document.querySelector('#df-66c1b29c-b0ee-4ec1-8ee3-9a0c50f7f36a button');\n",
              "      quickchartButtonEl.style.display =\n",
              "        google.colab.kernel.accessAllowed ? 'block' : 'none';\n",
              "    })();\n",
              "  </script>\n",
              "</div>\n",
              "\n",
              "    </div>\n",
              "  </div>\n"
            ],
            "application/vnd.google.colaboratory.intrinsic+json": {
              "type": "dataframe",
              "variable_name": "df"
            }
          },
          "metadata": {},
          "execution_count": 13
        }
      ],
      "source": [
        "df = pd.read_csv(\"/content/WA_Fn-UseC_-HR-Employee-Attrition.csv\")\n",
        "df.head()"
      ]
    },
    {
      "cell_type": "code",
      "source": [
        "df.shape"
      ],
      "metadata": {
        "id": "MEbWFBF6GXLX",
        "colab": {
          "base_uri": "https://localhost:8080/"
        },
        "outputId": "b947e6e1-697b-41e4-e155-8a6bb3423d13"
      },
      "id": "MEbWFBF6GXLX",
      "execution_count": 14,
      "outputs": [
        {
          "output_type": "execute_result",
          "data": {
            "text/plain": [
              "(1470, 35)"
            ]
          },
          "metadata": {},
          "execution_count": 14
        }
      ]
    },
    {
      "cell_type": "markdown",
      "id": "b5489440",
      "metadata": {
        "papermill": {
          "duration": 0.013724,
          "end_time": "2023-02-01T13:10:54.666902",
          "exception": false,
          "start_time": "2023-02-01T13:10:54.653178",
          "status": "completed"
        },
        "tags": [],
        "id": "b5489440"
      },
      "source": [
        "# Exploratory Data Analysis"
      ]
    },
    {
      "cell_type": "code",
      "execution_count": 15,
      "id": "3298555e",
      "metadata": {
        "execution": {
          "iopub.execute_input": "2023-02-01T13:10:54.696590Z",
          "iopub.status.busy": "2023-02-01T13:10:54.696236Z",
          "iopub.status.idle": "2023-02-01T13:10:54.870536Z",
          "shell.execute_reply": "2023-02-01T13:10:54.869876Z"
        },
        "papermill": {
          "duration": 0.191605,
          "end_time": "2023-02-01T13:10:54.872550",
          "exception": false,
          "start_time": "2023-02-01T13:10:54.680945",
          "status": "completed"
        },
        "tags": [],
        "colab": {
          "base_uri": "https://localhost:8080/",
          "height": 495
        },
        "id": "3298555e",
        "outputId": "06a83f36-32e9-4422-9348-55e5a105fa15"
      },
      "outputs": [
        {
          "output_type": "execute_result",
          "data": {
            "text/plain": [
              "<Axes: xlabel='Attrition', ylabel='count'>"
            ]
          },
          "metadata": {},
          "execution_count": 15
        },
        {
          "output_type": "display_data",
          "data": {
            "text/plain": [
              "<Figure size 640x480 with 1 Axes>"
            ],
            "image/png": "[encoded data removed]"
          },
          "metadata": {}
        }
      ],
      "source": [
        "sns.countplot(x='Attrition', data=df)"
      ]
    },
    {
      "cell_type": "code",
      "execution_count": 16,
      "id": "2d9f91ea",
      "metadata": {
        "execution": {
          "iopub.execute_input": "2023-02-01T13:10:54.906800Z",
          "iopub.status.busy": "2023-02-01T13:10:54.906444Z",
          "iopub.status.idle": "2023-02-01T13:10:54.918516Z",
          "shell.execute_reply": "2023-02-01T13:10:54.917350Z"
        },
        "papermill": {
          "duration": 0.030115,
          "end_time": "2023-02-01T13:10:54.921181",
          "exception": false,
          "start_time": "2023-02-01T13:10:54.891066",
          "status": "completed"
        },
        "tags": [],
        "id": "2d9f91ea"
      },
      "outputs": [],
      "source": [
        "df.drop(['EmployeeCount', 'EmployeeNumber', 'Over18', 'StandardHours'], axis=\"columns\", inplace=True)\n",
        "\n",
        "categorical_col = []\n",
        "for column in df.columns:\n",
        "    if df[column].dtype == object and len(df[column].unique()) <= 50:\n",
        "        categorical_col.append(column)\n",
        "\n",
        "df['Attrition'] = df.Attrition.astype(\"category\").cat.codes"
      ]
    },
    {
      "cell_type": "markdown",
      "id": "d407259a",
      "metadata": {
        "papermill": {
          "duration": 0.013923,
          "end_time": "2023-02-01T13:10:54.949482",
          "exception": false,
          "start_time": "2023-02-01T13:10:54.935559",
          "status": "completed"
        },
        "tags": [],
        "id": "d407259a"
      },
      "source": [
        "# Data Processing"
      ]
    },
    {
      "cell_type": "code",
      "execution_count": 17,
      "id": "9bc951c2",
      "metadata": {
        "execution": {
          "iopub.execute_input": "2023-02-01T13:10:54.980500Z",
          "iopub.status.busy": "2023-02-01T13:10:54.980116Z",
          "iopub.status.idle": "2023-02-01T13:10:54.985618Z",
          "shell.execute_reply": "2023-02-01T13:10:54.984611Z"
        },
        "papermill": {
          "duration": 0.024174,
          "end_time": "2023-02-01T13:10:54.987803",
          "exception": false,
          "start_time": "2023-02-01T13:10:54.963629",
          "status": "completed"
        },
        "tags": [],
        "id": "9bc951c2"
      },
      "outputs": [],
      "source": [
        "categorical_col.remove('Attrition')"
      ]
    },
    {
      "cell_type": "code",
      "execution_count": 18,
      "id": "f35f86b2",
      "metadata": {
        "_kg_hide-output": true,
        "execution": {
          "iopub.execute_input": "2023-02-01T13:10:55.018096Z",
          "iopub.status.busy": "2023-02-01T13:10:55.017671Z",
          "iopub.status.idle": "2023-02-01T13:10:55.166405Z",
          "shell.execute_reply": "2023-02-01T13:10:55.165294Z"
        },
        "papermill": {
          "duration": 0.166866,
          "end_time": "2023-02-01T13:10:55.168921",
          "exception": false,
          "start_time": "2023-02-01T13:10:55.002055",
          "status": "completed"
        },
        "tags": [],
        "id": "f35f86b2"
      },
      "outputs": [],
      "source": [
        "# Transform categorical data into dummies\n",
        "# categorical_col.remove(\"Attrition\")\n",
        "# data = pd.get_dummies(df, columns=categorical_col)\n",
        "# data.info()\n",
        "from sklearn.preprocessing import LabelEncoder\n",
        "\n",
        "label = LabelEncoder()\n",
        "for column in categorical_col:\n",
        "    df[column] = label.fit_transform(df[column])"
      ]
    },
    {
      "cell_type": "code",
      "execution_count": 19,
      "id": "e0bbc2c6",
      "metadata": {
        "execution": {
          "iopub.execute_input": "2023-02-01T13:10:55.200634Z",
          "iopub.status.busy": "2023-02-01T13:10:55.200254Z",
          "iopub.status.idle": "2023-02-01T13:10:55.266164Z",
          "shell.execute_reply": "2023-02-01T13:10:55.265104Z"
        },
        "papermill": {
          "duration": 0.083879,
          "end_time": "2023-02-01T13:10:55.268577",
          "exception": false,
          "start_time": "2023-02-01T13:10:55.184698",
          "status": "completed"
        },
        "tags": [],
        "id": "e0bbc2c6"
      },
      "outputs": [],
      "source": [
        "from sklearn.model_selection import train_test_split\n",
        "\n",
        "X = df.drop('Attrition', axis=1)\n",
        "y = df.Attrition\n",
        "\n",
        "X_train, X_test, y_train, y_test = train_test_split(X, y, test_size=0.3, random_state=42)"
      ]
    },
    {
      "cell_type": "markdown",
      "id": "d9f7a8d8",
      "metadata": {
        "papermill": {
          "duration": 0.013731,
          "end_time": "2023-02-01T13:10:55.297729",
          "exception": false,
          "start_time": "2023-02-01T13:10:55.283998",
          "status": "completed"
        },
        "tags": [],
        "id": "d9f7a8d8"
      },
      "source": [
        "# Applying Tree & Random Forest algorithms"
      ]
    },
    {
      "cell_type": "markdown",
      "id": "d67152db",
      "metadata": {
        "papermill": {
          "duration": 0.018847,
          "end_time": "2023-02-01T13:10:55.373749",
          "exception": false,
          "start_time": "2023-02-01T13:10:55.354902",
          "status": "completed"
        },
        "tags": [],
        "id": "d67152db"
      },
      "source": [
        "## 1. Decision Tree Classifier\n",
        "\n",
        "**Decision Tree parameters:**\n",
        "- `criterion`: The function to measure the quality of a split. Supported criteria are \"`gini`\" for the Gini impurity and \"`entropy`\" for the information gain.\n",
        "***\n",
        "- `splitter`: The strategy used to choose the split at each node. Supported strategies are \"`best`\" to choose the best split and \"`random`\" to choose the best random split.\n",
        "***\n",
        "- `max_depth`: The maximum depth of the tree. If None, then nodes are expanded until all leaves are pure or until all leaves contain less than `min_samples_split` samples.\n",
        "***\n",
        "- `min_samples_split`: The minimum number of samples required to split an internal node.\n",
        "***\n",
        "- `min_samples_leaf`: The minimum number of samples required to be at a leaf node. A split point at any depth will only be considered if it leaves at least ``min_samples_leaf`` training samples in each of the left and right branches.  This may have the effect of smoothing the model, especially in regression.\n",
        "***\n",
        "- `min_weight_fraction_leaf`: The minimum weighted fraction of the sum total of weights (of all the input samples) required to be at a leaf node. Samples have equal weight when sample_weight is not provided.\n",
        "***\n",
        "- `max_features`: The number of features to consider when looking for the best split.\n",
        "***\n",
        "- `max_leaf_nodes`: Grow a tree with ``max_leaf_nodes`` in best-first fashion. Best nodes are defined as relative reduction in impurity. If None then unlimited number of leaf nodes.\n",
        "***\n",
        "- `min_impurity_decrease`: A node will be split if this split induces a decrease of the impurity greater than or equal to this value.\n",
        "***\n",
        "- `min_impurity_split`: Threshold for early stopping in tree growth. A node will split if its impurity is above the threshold, otherwise it is a leaf."
      ]
    },
    {
      "cell_type": "markdown",
      "id": "3be807b2",
      "metadata": {
        "papermill": {
          "duration": 0.022025,
          "end_time": "2023-02-01T13:12:04.822055",
          "exception": false,
          "start_time": "2023-02-01T13:12:04.800030",
          "status": "completed"
        },
        "tags": [],
        "id": "3be807b2"
      },
      "source": [
        "# 3. Random Forest\n",
        "\n",
        "A random forest is a meta estimator that fits a number of decision tree classifiers on various sub-samples of the dataset and uses averaging to improve the predictive accuracy and control over-fitting.\n",
        "\n",
        "- **Random forest algorithm parameters:**\n",
        "- `n_estimators`: The number of trees in the forest.\n",
        "***\n",
        "- `criterion`: The function to measure the quality of a split. Supported criteria are \"`gini`\" for the Gini impurity and \"`entropy`\" for the information gain.\n",
        "***\n",
        "- `max_depth`: The maximum depth of the tree. If None, then nodes are expanded until all leaves are pure or until all leaves contain less than `min_samples_split` samples.\n",
        "***\n",
        "- `min_samples_split`: The minimum number of samples required to split an internal node.\n",
        "***\n",
        "- `min_samples_leaf`: The minimum number of samples required to be at a leaf node. A split point at any depth will only be considered if it leaves at least ``min_samples_leaf`` training samples in each of the left and right branches.  This may have the effect of smoothing the model, especially in regression.\n",
        "***\n",
        "- `min_weight_fraction_leaf`: The minimum weighted fraction of the sum total of weights (of all the input samples) required to be at a leaf node. Samples have equal weight when sample_weight is not provided.\n",
        "***\n",
        "- `max_features`: The number of features to consider when looking for the best split.\n",
        "***\n",
        "- `max_leaf_nodes`: Grow a tree with ``max_leaf_nodes`` in best-first fashion. Best nodes are defined as relative reduction in impurity. If None then unlimited number of leaf nodes.\n",
        "***\n",
        "- `min_impurity_decrease`: A node will be split if this split induces a decrease of the impurity greater than or equal to this value.\n",
        "***\n",
        "- `min_impurity_split`: Threshold for early stopping in tree growth. A node will split if its impurity is above the threshold, otherwise it is a leaf.\n",
        "***\n",
        "- `bootstrap`: Whether bootstrap samples are used when building trees. If False, the whole datset is used to build each tree.\n",
        "***\n",
        "- `oob_score`: Whether to use out-of-bag samples to estimate the generalization accuracy."
      ]
    },
    {
      "cell_type": "code",
      "source": [
        "from sklearn.metrics import accuracy_score, confusion_matrix, classification_report\n",
        "\n",
        "def print_score(clf, X_train, y_train, X_test, y_test, train=True):\n",
        "    if train:\n",
        "        pred = clf.predict(X_train)\n",
        "        clf_report = pd.DataFrame(classification_report(y_train, pred, output_dict=True))\n",
        "        print(\"Train Result:\\n================================================\")\n",
        "        print(f\"Accuracy Score: {accuracy_score(y_train, pred) * 100:.2f}%\")\n",
        "        print(\"_______________________________________________\")\n",
        "        print(f\"CLASSIFICATION REPORT:\\n{clf_report}\")\n",
        "        print(\"_______________________________________________\")\n",
        "        print(f\"Confusion Matrix: \\n {confusion_matrix(y_train, pred)}\\n\")\n",
        "\n",
        "    elif train==False:\n",
        "        pred = clf.predict(X_test)\n",
        "        clf_report = pd.DataFrame(classification_report(y_test, pred, output_dict=True))\n",
        "        print(\"Test Result:\\n================================================\")\n",
        "        print(f\"Accuracy Score: {accuracy_score(y_test, pred) * 100:.2f}%\")\n",
        "        print(\"_______________________________________________\")\n",
        "        print(f\"CLASSIFICATION REPORT:\\n{clf_report}\")\n",
        "        print(\"_______________________________________________\")\n",
        "        print(f\"Confusion Matrix: \\n {confusion_matrix(y_test, pred)}\\n\")"
      ],
      "metadata": {
        "id": "7JzVGa8RIP1n"
      },
      "id": "7JzVGa8RIP1n",
      "execution_count": 21,
      "outputs": []
    },
    {
      "cell_type": "code",
      "source": [
        "from sklearn.ensemble import RandomForestClassifier\n",
        "\n",
        "rf_clf = RandomForestClassifier(n_estimators=100)\n",
        "rf_clf.fit(X_train, y_train)\n",
        "\n",
        "print_score(rf_clf, X_train, y_train, X_test, y_test, train=True)\n",
        "print_score(rf_clf, X_train, y_train, X_test, y_test, train=False)"
      ],
      "metadata": {
        "colab": {
          "base_uri": "https://localhost:8080/"
        },
        "id": "hbkQleUhIXq_",
        "outputId": "938f45cc-10e3-4a2e-a7c6-b4e5a24a9400"
      },
      "id": "hbkQleUhIXq_",
      "execution_count": 22,
      "outputs": [
        {
          "output_type": "stream",
          "name": "stdout",
          "text": [
            "Train Result:\n",
            "================================================\n",
            "Accuracy Score: 100.00%\n",
            "_______________________________________________\n",
            "CLASSIFICATION REPORT:\n",
            "               0      1  accuracy  macro avg  weighted avg\n",
            "precision    1.0    1.0       1.0        1.0           1.0\n",
            "recall       1.0    1.0       1.0        1.0           1.0\n",
            "f1-score     1.0    1.0       1.0        1.0           1.0\n",
            "support    853.0  176.0       1.0     1029.0        1029.0\n",
            "_______________________________________________\n",
            "Confusion Matrix: \n",
            " [[853   0]\n",
            " [  0 176]]\n",
            "\n",
            "Test Result:\n",
            "================================================\n",
            "Accuracy Score: 86.17%\n",
            "_______________________________________________\n",
            "CLASSIFICATION REPORT:\n",
            "                    0          1  accuracy   macro avg  weighted avg\n",
            "precision    0.870070   0.500000  0.861678    0.685035      0.818881\n",
            "recall       0.986842   0.081967  0.861678    0.534405      0.861678\n",
            "f1-score     0.924784   0.140845  0.861678    0.532815      0.816348\n",
            "support    380.000000  61.000000  0.861678  441.000000    441.000000\n",
            "_______________________________________________\n",
            "Confusion Matrix: \n",
            " [[375   5]\n",
            " [ 56   5]]\n",
            "\n"
          ]
        }
      ]
    },
    {
      "cell_type": "markdown",
      "id": "a63bb0e1",
      "metadata": {
        "papermill": {
          "duration": 0.021901,
          "end_time": "2023-02-01T13:12:05.284456",
          "exception": false,
          "start_time": "2023-02-01T13:12:05.262555",
          "status": "completed"
        },
        "tags": [],
        "id": "a63bb0e1"
      },
      "source": [
        "## 4. Random Forest hyperparameter tuning"
      ]
    },
    {
      "cell_type": "markdown",
      "id": "0c74ab64",
      "metadata": {
        "papermill": {
          "duration": 0.022929,
          "end_time": "2023-02-01T13:12:05.330212",
          "exception": false,
          "start_time": "2023-02-01T13:12:05.307283",
          "status": "completed"
        },
        "tags": [],
        "id": "0c74ab64"
      },
      "source": [
        "### a) Randomized Search Cross Validation"
      ]
    },
    {
      "cell_type": "markdown",
      "id": "31ecf3cd",
      "metadata": {
        "papermill": {
          "duration": 0.021868,
          "end_time": "2023-02-01T13:26:27.281474",
          "exception": false,
          "start_time": "2023-02-01T13:26:27.259606",
          "status": "completed"
        },
        "tags": [],
        "id": "31ecf3cd"
      },
      "source": [
        "`Random search` allowed us to narrow down the range for each hyperparameter. Now that we know where to concentrate our search, we can explicitly specify every combination of settings to try. We do this with `GridSearchCV`, a method that, instead of sampling randomly from a distribution, evaluates all combinations we define."
      ]
    },
    {
      "cell_type": "markdown",
      "id": "8bb36713",
      "metadata": {
        "papermill": {
          "duration": 0.022793,
          "end_time": "2023-02-01T13:56:56.787046",
          "exception": false,
          "start_time": "2023-02-01T13:56:56.764253",
          "status": "completed"
        },
        "tags": [],
        "id": "8bb36713"
      },
      "source": [
        "# Summary\n",
        "In this notebook we learned the following lessons:\n",
        "- Decsion tree and random forest algorithms and the parameters of each algorithm.\n",
        "- How to tune hyperparameters for both Decision tree and Random Forest.\n",
        "- Balance your dataset before training to prevent the tree from being biased toward the classes that are dominant.\n",
        "  - By sampling an equal number of samples from each class  \n",
        "  - By normalizing the sum of the sample weights (sample_weight) for each class to the same value.\n"
      ]
    },
    {
      "cell_type": "code",
      "source": [],
      "metadata": {
        "id": "7y7YkacHG6gL"
      },
      "id": "7y7YkacHG6gL",
      "execution_count": null,
      "outputs": []
    }
  ],
  "metadata": {
    "kernelspec": {
      "display_name": "Python 3",
      "name": "python3"
    },
    "language_info": {
      "codemirror_mode": {
        "name": "ipython",
        "version": 3
      },
      "file_extension": ".py",
      "mimetype": "text/x-python",
      "name": "python",
      "nbconvert_exporter": "python",
      "pygments_lexer": "ipython3",
      "version": "3.7.12"
    },
    "papermill": {
      "default_parameters": {},
      "duration": 2774.153066,
      "end_time": "2023-02-01T13:56:59.434588",
      "environment_variables": {},
      "exception": null,
      "input_path": "__notebook__.ipynb",
      "output_path": "__notebook__.ipynb",
      "parameters": {},
      "start_time": "2023-02-01T13:10:45.281522",
      "version": "2.3.4"
    },
    "colab": {
      "provenance": [],
      "gpuType": "T4"
    },
    "accelerator": "GPU"
  },
  "nbformat": 4,
  "nbformat_minor": 5
}